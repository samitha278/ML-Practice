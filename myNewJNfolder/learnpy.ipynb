{
 "cells": [
  {
   "cell_type": "markdown",
   "id": "a6532976",
   "metadata": {},
   "source": [
    "# Python"
   ]
  },
  {
   "cell_type": "markdown",
   "id": "ab819fa3",
   "metadata": {},
   "source": [
    "## iterators , genarators , decorators"
   ]
  },
  {
   "cell_type": "code",
   "execution_count": 1,
   "id": "aefba9f6",
   "metadata": {},
   "outputs": [],
   "source": [
    "names = [\"jim\",\"kin\",\"deg\",\"utah\"]"
   ]
  },
  {
   "cell_type": "code",
   "execution_count": 2,
   "id": "2d64e802",
   "metadata": {},
   "outputs": [
    {
     "name": "stdout",
     "output_type": "stream",
     "text": [
      "jim\n",
      "kin\n",
      "deg\n",
      "utah\n"
     ]
    }
   ],
   "source": [
    "for name in names:\n",
    "    print(name)"
   ]
  },
  {
   "cell_type": "code",
   "execution_count": null,
   "id": "f636551c",
   "metadata": {},
   "outputs": [],
   "source": [
    "dir(names)"
   ]
  },
  {
   "cell_type": "code",
   "execution_count": 9,
   "id": "664bf7a4",
   "metadata": {},
   "outputs": [
    {
     "name": "stdout",
     "output_type": "stream",
     "text": [
      "Help on method-wrapper:\n",
      "\n",
      "__iter__()\n",
      "    Implement iter(self).\n",
      "\n"
     ]
    }
   ],
   "source": [
    "help(names.__iter__)"
   ]
  },
  {
   "cell_type": "code",
   "execution_count": 12,
   "id": "ca020273",
   "metadata": {},
   "outputs": [
    {
     "data": {
      "text/plain": [
       "'jim'"
      ]
     },
     "execution_count": 12,
     "metadata": {},
     "output_type": "execute_result"
    }
   ],
   "source": [
    "next(iter(names))"
   ]
  },
  {
   "cell_type": "code",
   "execution_count": 15,
   "id": "47d780c2",
   "metadata": {},
   "outputs": [
    {
     "name": "stdout",
     "output_type": "stream",
     "text": [
      "jim\n",
      "jim\n",
      "jim\n",
      "jim\n"
     ]
    }
   ],
   "source": [
    "for i in range(len(names)):\n",
    "    print(next(iter(names)))"
   ]
  },
  {
   "cell_type": "markdown",
   "id": "ac159464",
   "metadata": {},
   "source": [
    "## decorators"
   ]
  },
  {
   "cell_type": "code",
   "execution_count": 23,
   "id": "13396637",
   "metadata": {},
   "outputs": [
    {
     "name": "stdout",
     "output_type": "stream",
     "text": [
      "time:  0.0\n"
     ]
    },
    {
     "data": {
      "text/plain": [
       "[1, 4, 9, 16, 25, 36, 49, 64, 81]"
      ]
     },
     "execution_count": 23,
     "metadata": {},
     "output_type": "execute_result"
    }
   ],
   "source": [
    "import time\n",
    "\n",
    "def time_it(func):\n",
    "    \n",
    "    def wrapper(*args,**kwargs):\n",
    "        \n",
    "        start = time.time()\n",
    "        result = func(*args,**kwargs)\n",
    "        end = time.time()\n",
    "        \n",
    "        print(\"time: \", (end-start)*1000)\n",
    "        \n",
    "        return result \n",
    "    \n",
    "    return wrapper \n",
    "        \n",
    "        \n",
    "\n",
    "\n",
    "@time_it\n",
    "def calc(numbers):\n",
    "    return [i*i for i in numbers]\n",
    "\n",
    "\n",
    "calc(range(1,10))"
   ]
  },
  {
   "cell_type": "markdown",
   "id": "80480cf2",
   "metadata": {},
   "source": [
    "# Multithreading"
   ]
  },
  {
   "cell_type": "code",
   "execution_count": 32,
   "id": "ecc21b1a",
   "metadata": {},
   "outputs": [
    {
     "name": "stdout",
     "output_type": "stream",
     "text": [
      "square:  1\n",
      "cube:  1\n",
      "square:  4\n",
      "cube:  8\n",
      "square:  9\n",
      "cube:  27\n",
      "square:  16\n",
      "cube:  64\n",
      "time :  0.8070218563079834\n"
     ]
    }
   ],
   "source": [
    "import threading\n",
    "import time \n",
    "\n",
    "def square(arr):\n",
    "    for i in arr:\n",
    "        time.sleep(0.2)\n",
    "        print(\"square: \" , i*i)\n",
    "        \n",
    "def cube(arr):\n",
    "    for i in arr:\n",
    "        time.sleep(0.2)\n",
    "        print(\"cube: \", i*i*i)\n",
    "    \n",
    "\n",
    "arr = [1,2,3,4]\n",
    "\n",
    "start = time.time()\n",
    "\n",
    "t1 = threading.Thread(target = square , args = (arr,))\n",
    "t2 = threading.Thread(target = cube , args = (arr,))\n",
    "\n",
    "t1.start()\n",
    "t2.start()\n",
    "\n",
    "t1.join()\n",
    "t2.join()\n",
    "\n",
    "print(\"time : \" , time.time() - start )\n"
   ]
  },
  {
   "cell_type": "markdown",
   "id": "c4b2f6fc",
   "metadata": {},
   "source": [
    "# Multiprocessing"
   ]
  },
  {
   "cell_type": "code",
   "execution_count": 34,
   "id": "5f4bd654",
   "metadata": {},
   "outputs": [],
   "source": [
    "import multiprocessing\n",
    "\n",
    "#syntax same as multithreading"
   ]
  },
  {
   "cell_type": "code",
   "execution_count": null,
   "id": "28cd3e7e",
   "metadata": {},
   "outputs": [],
   "source": []
  },
  {
   "cell_type": "code",
   "execution_count": null,
   "id": "d1f658b6",
   "metadata": {},
   "outputs": [],
   "source": []
  },
  {
   "cell_type": "code",
   "execution_count": null,
   "id": "61f19d83",
   "metadata": {},
   "outputs": [],
   "source": []
  },
  {
   "cell_type": "code",
   "execution_count": null,
   "id": "6f4a5f50",
   "metadata": {},
   "outputs": [],
   "source": []
  },
  {
   "cell_type": "code",
   "execution_count": null,
   "id": "f63b5363",
   "metadata": {},
   "outputs": [],
   "source": []
  },
  {
   "cell_type": "code",
   "execution_count": null,
   "id": "af1aa760",
   "metadata": {},
   "outputs": [],
   "source": []
  }
 ],
 "metadata": {
  "kernelspec": {
   "display_name": "Python 3 (ipykernel)",
   "language": "python",
   "name": "python3"
  },
  "language_info": {
   "codemirror_mode": {
    "name": "ipython",
    "version": 3
   },
   "file_extension": ".py",
   "mimetype": "text/x-python",
   "name": "python",
   "nbconvert_exporter": "python",
   "pygments_lexer": "ipython3",
   "version": "3.11.5"
  }
 },
 "nbformat": 4,
 "nbformat_minor": 5
}
