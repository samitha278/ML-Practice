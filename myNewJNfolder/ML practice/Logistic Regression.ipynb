{
 "cells": [
  {
   "cell_type": "markdown",
   "id": "a351b7b3",
   "metadata": {},
   "source": [
    "# Logistic Regression"
   ]
  },
  {
   "cell_type": "code",
   "execution_count": 31,
   "id": "84671d6a",
   "metadata": {},
   "outputs": [],
   "source": [
    "import numpy as np\n",
    "import pandas as pd\n",
    "import matplotlib.pyplot as plt"
   ]
  },
  {
   "cell_type": "code",
   "execution_count": 32,
   "id": "43304ff6",
   "metadata": {},
   "outputs": [
    {
     "data": {
      "text/html": [
       "<div>\n",
       "<style scoped>\n",
       "    .dataframe tbody tr th:only-of-type {\n",
       "        vertical-align: middle;\n",
       "    }\n",
       "\n",
       "    .dataframe tbody tr th {\n",
       "        vertical-align: top;\n",
       "    }\n",
       "\n",
       "    .dataframe thead th {\n",
       "        text-align: right;\n",
       "    }\n",
       "</style>\n",
       "<table border=\"1\" class=\"dataframe\">\n",
       "  <thead>\n",
       "    <tr style=\"text-align: right;\">\n",
       "      <th></th>\n",
       "      <th>User ID</th>\n",
       "      <th>Gender</th>\n",
       "      <th>Age</th>\n",
       "      <th>EstimatedSalary</th>\n",
       "      <th>Purchased</th>\n",
       "    </tr>\n",
       "  </thead>\n",
       "  <tbody>\n",
       "    <tr>\n",
       "      <th>0</th>\n",
       "      <td>15624510</td>\n",
       "      <td>Male</td>\n",
       "      <td>19</td>\n",
       "      <td>19000</td>\n",
       "      <td>0</td>\n",
       "    </tr>\n",
       "    <tr>\n",
       "      <th>1</th>\n",
       "      <td>15810944</td>\n",
       "      <td>Male</td>\n",
       "      <td>35</td>\n",
       "      <td>20000</td>\n",
       "      <td>0</td>\n",
       "    </tr>\n",
       "    <tr>\n",
       "      <th>2</th>\n",
       "      <td>15668575</td>\n",
       "      <td>Female</td>\n",
       "      <td>26</td>\n",
       "      <td>43000</td>\n",
       "      <td>0</td>\n",
       "    </tr>\n",
       "    <tr>\n",
       "      <th>3</th>\n",
       "      <td>15603246</td>\n",
       "      <td>Female</td>\n",
       "      <td>27</td>\n",
       "      <td>57000</td>\n",
       "      <td>0</td>\n",
       "    </tr>\n",
       "    <tr>\n",
       "      <th>4</th>\n",
       "      <td>15804002</td>\n",
       "      <td>Male</td>\n",
       "      <td>19</td>\n",
       "      <td>76000</td>\n",
       "      <td>0</td>\n",
       "    </tr>\n",
       "  </tbody>\n",
       "</table>\n",
       "</div>"
      ],
      "text/plain": [
       "    User ID  Gender  Age  EstimatedSalary  Purchased\n",
       "0  15624510    Male   19            19000          0\n",
       "1  15810944    Male   35            20000          0\n",
       "2  15668575  Female   26            43000          0\n",
       "3  15603246  Female   27            57000          0\n",
       "4  15804002    Male   19            76000          0"
      ]
     },
     "execution_count": 32,
     "metadata": {},
     "output_type": "execute_result"
    }
   ],
   "source": [
    "df = pd.read_csv(\"SNAds.csv\")\n",
    "df.head()"
   ]
  },
  {
   "cell_type": "code",
   "execution_count": 33,
   "id": "9a7915e9",
   "metadata": {},
   "outputs": [
    {
     "data": {
      "text/html": [
       "<div>\n",
       "<style scoped>\n",
       "    .dataframe tbody tr th:only-of-type {\n",
       "        vertical-align: middle;\n",
       "    }\n",
       "\n",
       "    .dataframe tbody tr th {\n",
       "        vertical-align: top;\n",
       "    }\n",
       "\n",
       "    .dataframe thead th {\n",
       "        text-align: right;\n",
       "    }\n",
       "</style>\n",
       "<table border=\"1\" class=\"dataframe\">\n",
       "  <thead>\n",
       "    <tr style=\"text-align: right;\">\n",
       "      <th></th>\n",
       "      <th>User ID</th>\n",
       "      <th>Gender</th>\n",
       "      <th>Age</th>\n",
       "      <th>EstimatedSalary</th>\n",
       "      <th>Purchased</th>\n",
       "    </tr>\n",
       "  </thead>\n",
       "  <tbody>\n",
       "    <tr>\n",
       "      <th>0</th>\n",
       "      <td>15624510</td>\n",
       "      <td>1</td>\n",
       "      <td>19</td>\n",
       "      <td>19000</td>\n",
       "      <td>0</td>\n",
       "    </tr>\n",
       "    <tr>\n",
       "      <th>1</th>\n",
       "      <td>15810944</td>\n",
       "      <td>1</td>\n",
       "      <td>35</td>\n",
       "      <td>20000</td>\n",
       "      <td>0</td>\n",
       "    </tr>\n",
       "    <tr>\n",
       "      <th>2</th>\n",
       "      <td>15668575</td>\n",
       "      <td>0</td>\n",
       "      <td>26</td>\n",
       "      <td>43000</td>\n",
       "      <td>0</td>\n",
       "    </tr>\n",
       "    <tr>\n",
       "      <th>3</th>\n",
       "      <td>15603246</td>\n",
       "      <td>0</td>\n",
       "      <td>27</td>\n",
       "      <td>57000</td>\n",
       "      <td>0</td>\n",
       "    </tr>\n",
       "    <tr>\n",
       "      <th>4</th>\n",
       "      <td>15804002</td>\n",
       "      <td>1</td>\n",
       "      <td>19</td>\n",
       "      <td>76000</td>\n",
       "      <td>0</td>\n",
       "    </tr>\n",
       "  </tbody>\n",
       "</table>\n",
       "</div>"
      ],
      "text/plain": [
       "    User ID  Gender  Age  EstimatedSalary  Purchased\n",
       "0  15624510       1   19            19000          0\n",
       "1  15810944       1   35            20000          0\n",
       "2  15668575       0   26            43000          0\n",
       "3  15603246       0   27            57000          0\n",
       "4  15804002       1   19            76000          0"
      ]
     },
     "execution_count": 33,
     "metadata": {},
     "output_type": "execute_result"
    }
   ],
   "source": [
    "Gender = df[\"Gender\"]\n",
    "\n",
    "def gen(x):\n",
    "    if x == \"Male\":\n",
    "        val = 1 \n",
    "    elif x == \"Female\":\n",
    "        val = 0\n",
    "    else:\n",
    "        val = None  \n",
    "    return val\n",
    "\n",
    "new_gen = Gender.apply(gen)\n",
    "\n",
    "df[\"Gender\"] = new_gen\n",
    "\n",
    "df.head()"
   ]
  },
  {
   "cell_type": "code",
   "execution_count": 34,
   "id": "deaa00c8",
   "metadata": {},
   "outputs": [],
   "source": [
    "y_train = np.array(df[\"Purchased\"])\n",
    "\n",
    "m = len(y_train)\n",
    "\n",
    "x_features = [\"Gender\" , \"Age\" , \"EstimatedSalary\"]\n",
    "\n",
    "n = len(x_features)\n",
    "\n",
    "x_train = np.transpose(np.array([ df[x_features[i]] for i in range(n)]))\n"
   ]
  },
  {
   "cell_type": "code",
   "execution_count": 35,
   "id": "53596e0c",
   "metadata": {},
   "outputs": [
    {
     "data": {
      "text/plain": [
       "array([[    1,    19, 19000],\n",
       "       [    1,    35, 20000],\n",
       "       [    0,    26, 43000],\n",
       "       ...,\n",
       "       [    0,    50, 20000],\n",
       "       [    1,    36, 33000],\n",
       "       [    0,    49, 36000]], dtype=int64)"
      ]
     },
     "execution_count": 35,
     "metadata": {},
     "output_type": "execute_result"
    }
   ],
   "source": [
    "x_train"
   ]
  },
  {
   "cell_type": "markdown",
   "id": "77e7e830",
   "metadata": {},
   "source": [
    "### sigmoid function"
   ]
  },
  {
   "cell_type": "code",
   "execution_count": 36,
   "id": "aebaa5b1",
   "metadata": {},
   "outputs": [],
   "source": [
    "def sigmoid(f):\n",
    "    return 0.5 * (1 + np.tanh(0.5 * f))\n"
   ]
  },
  {
   "cell_type": "code",
   "execution_count": 37,
   "id": "6866ef67",
   "metadata": {},
   "outputs": [
    {
     "data": {
      "text/plain": [
       "1.0"
      ]
     },
     "execution_count": 37,
     "metadata": {},
     "output_type": "execute_result"
    }
   ],
   "source": [
    "sigmoid(1000000)"
   ]
  },
  {
   "cell_type": "markdown",
   "id": "0db974d6",
   "metadata": {},
   "source": [
    "### cost function"
   ]
  },
  {
   "cell_type": "code",
   "execution_count": 38,
   "id": "eac81268",
   "metadata": {},
   "outputs": [],
   "source": [
    "def calc_cost(m,X,Y,w,b):\n",
    "    \n",
    "    J = 0\n",
    "    \n",
    "    for i in range(m):\n",
    "        \n",
    "        z_wb_i = np.dot(w,X[i]) + b\n",
    "        f_wb_i = sigmoid(z_wb_i)\n",
    "        \n",
    "        J += -Y[i] * np.log(f_wb_i)  - (1-Y[i]) * np.log(1-f_wb_i)\n",
    "        \n",
    "        \n",
    "    return J/m    "
   ]
  },
  {
   "cell_type": "code",
   "execution_count": 39,
   "id": "53a1381c",
   "metadata": {},
   "outputs": [
    {
     "data": {
      "text/plain": [
       "0.6931471805599467"
      ]
     },
     "execution_count": 39,
     "metadata": {},
     "output_type": "execute_result"
    }
   ],
   "source": [
    "w_init = np.zeros(n)\n",
    "b_init = 0\n",
    "\n",
    "cost = calc_cost(m,x_train,y_train,w_init,b_init)\n",
    "cost"
   ]
  },
  {
   "cell_type": "markdown",
   "id": "b21aac69",
   "metadata": {},
   "source": [
    "### Gradient discent"
   ]
  },
  {
   "cell_type": "code",
   "execution_count": 40,
   "id": "34a5503a",
   "metadata": {},
   "outputs": [],
   "source": [
    "def calculate_gradient(m ,n ,X ,Y ,w ,b):\n",
    "    \n",
    "    gra_w = np.array([(1/m) * np.sum([  (np.dot(w,X[i]) + b - Y[i]) * X[i][j]  for i in range(m)  ]) for j in range(n)])\n",
    "     \n",
    "    dir_b = (1/m) * np.sum([  (np.dot(w,X[i]) + b - Y[i])   for i in range(m)  ])\n",
    "    \n",
    "    return gra_w , dir_b\n",
    "    \n",
    "        "
   ]
  },
  {
   "cell_type": "code",
   "execution_count": 77,
   "id": "fe87677c",
   "metadata": {},
   "outputs": [],
   "source": [
    "def gradient_descent(X,Y,w,b , alpha , max_iter):\n",
    "    \n",
    "    m,n = X.shape\n",
    "    \n",
    "    cost = []\n",
    "    \n",
    "    for i in range(max_iter):\n",
    "            \n",
    "        c = calc_cost(m,X,Y,w,b)\n",
    "        cost.append(c)\n",
    "        \n",
    "        #gra_w = np.array([  (1/m)* np.sum([  (np.dot(w,X[i])+b - Y[i])*X[i][j]   for i in range(m)]) for j in range(n)])\n",
    "        #dir_b = (1/m)* np.sum([  (np.dot(w,X[i])+b - Y[i]) for i in range(m)])\n",
    "        \n",
    "        #vectorized \n",
    "        gra_w = np.array( (1/m) * np.dot( X.T , ( (np.dot(w,X) + b - Y  )   )))\n",
    "        \n",
    "        dir_b = (1/m) * (np.dot(w,X) + b - Y )\n",
    "        \n",
    "    \n",
    "        w = w - alpha * gra_w\n",
    "        b = b - alpha * dir_b\n",
    "            \n",
    "    return w,b , np.array(cost)\n"
   ]
  },
  {
   "cell_type": "code",
   "execution_count": 79,
   "id": "ddc2f754",
   "metadata": {},
   "outputs": [
    {
     "data": {
      "text/plain": [
       "array([-4.42716134e-10,  2.87796504e-07,  5.12005338e-06])"
      ]
     },
     "execution_count": 79,
     "metadata": {},
     "output_type": "execute_result"
    }
   ],
   "source": [
    "w_pre , b_pre , cost = gradient_discent(m,n,x_train,y_train,w_init,b_init,0.0000000001,1000)\n",
    "w_pre"
   ]
  },
  {
   "cell_type": "code",
   "execution_count": 87,
   "id": "3d73fd8b",
   "metadata": {},
   "outputs": [
    {
     "data": {
      "text/plain": [
       "[<matplotlib.lines.Line2D at 0x249963cc9d0>]"
      ]
     },
     "execution_count": 87,
     "metadata": {},
     "output_type": "execute_result"
    },
    {
     "data": {
      "image/png": "[encoded data removed]",
      "text/plain": [
       "<Figure size 640x480 with 1 Axes>"
      ]
     },
     "metadata": {},
     "output_type": "display_data"
    }
   ],
   "source": [
    "pred = np.array([sigmoid(np.dot(x_train[i],w_pre) + b_pre) for i in range(m)])\n",
    "\n",
    "x = np.arange(0,m,1)\n",
    "\n",
    "plt.plot(x,pred ,'o', ms = 0.8 , color = \"blue\")\n",
    "plt.plot(x,y_train , 'o' , ms = 0.8 , color = \"red\")"
   ]
  },
  {
   "cell_type": "code",
   "execution_count": null,
   "id": "f974b0e9",
   "metadata": {},
   "outputs": [],
   "source": []
  },
  {
   "cell_type": "code",
   "execution_count": null,
   "id": "113ae2de",
   "metadata": {},
   "outputs": [],
   "source": []
  },
  {
   "cell_type": "code",
   "execution_count": null,
   "id": "a335e816",
   "metadata": {},
   "outputs": [],
   "source": []
  },
  {
   "cell_type": "code",
   "execution_count": null,
   "id": "13bb957e",
   "metadata": {},
   "outputs": [],
   "source": []
  },
  {
   "cell_type": "code",
   "execution_count": null,
   "id": "2d17ca98",
   "metadata": {},
   "outputs": [],
   "source": []
  },
  {
   "cell_type": "code",
   "execution_count": null,
   "id": "4cff66a5",
   "metadata": {},
   "outputs": [],
   "source": []
  }
 ],
 "metadata": {
  "kernelspec": {
   "display_name": "Python 3 (ipykernel)",
   "language": "python",
   "name": "python3"
  },
  "language_info": {
   "codemirror_mode": {
    "name": "ipython",
    "version": 3
   },
   "file_extension": ".py",
   "mimetype": "text/x-python",
   "name": "python",
   "nbconvert_exporter": "python",
   "pygments_lexer": "ipython3",
   "version": "3.11.5"
  }
 },
 "nbformat": 4,
 "nbformat_minor": 5
}
